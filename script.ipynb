{
 "cells": [
  {
   "cell_type": "code",
   "execution_count": 23,
   "metadata": {},
   "outputs": [],
   "source": [
    "import numpy as np\n",
    "import matplotlib.pyplot as plt\n",
    "from sklearn.model_selection import KFold\n",
    "from sklearn.model_selection import train_test_split\n",
    "\n",
    "import torch\n",
    "import torch.nn as nn\n",
    "import torch.optim as optim\n",
    "from torch.utils.data import DataLoader, TensorDataset\n",
    "\n",
    "device = 'cuda' if torch.cuda.is_available() else 'cpu'"
   ]
  },
  {
   "cell_type": "code",
   "execution_count": 24,
   "metadata": {},
   "outputs": [],
   "source": [
    "#Dataset Type\n",
    "n=9"
   ]
  },
  {
   "cell_type": "code",
   "execution_count": 25,
   "metadata": {},
   "outputs": [],
   "source": [
    "# Hyper Parameters ----------------------------------\n",
    "# This is a 2 layer hidden network (n-> 18n -> 18n -> 1)\n",
    "\n",
    "para = {\"hidden_size\":[18*n], \"lr\":[0.01], \"alpha\":[0.001], \"batch_size\":[128], \"num_epochs\":[100]}"
   ]
  },
  {
   "cell_type": "code",
   "execution_count": 26,
   "metadata": {},
   "outputs": [],
   "source": [
    "# Import Data and convert to tensor\n",
    "binary = True\n",
    "\n",
    "X = np.load(\"Datasets/kryptonite-%s-X.npy\"%(n))\n",
    "y = np.load(\"Datasets/kryptonite-%s-y.npy\"%(n))\n",
    "if binary:\n",
    "    X = np.where(X>0.5, 1, 0)\n",
    "\n",
    "X_temp, X_test, y_temp, y_test = train_test_split(X, y, test_size=0.2, random_state=42)  # 20% test\n",
    "\n",
    "X_temp = torch.tensor(X_temp.astype(np.float32)).to(device)\n",
    "y_temp = torch.tensor(y_temp.astype(np.float32)).unsqueeze(1).to(device)\n",
    "\n",
    "X_test = torch.tensor(X_test.astype(np.float32)).to(device)\n",
    "y_test = torch.tensor(y_test.astype(np.float32)).unsqueeze(1).to(device)\n",
    "\n",
    "test_dataset = TensorDataset(X_test, y_test)\n",
    "test_loader = DataLoader(test_dataset, shuffle=False)"
   ]
  },
  {
   "cell_type": "code",
   "execution_count": 27,
   "metadata": {},
   "outputs": [],
   "source": [
    "# Store loss and accuracy for each K-fold \n",
    "train_acc_list={0:[], 1:[], 2:[], 3:[], 4:[]}\n",
    "val_acc_list = {0:[], 1:[], 2:[], 3:[], 4:[]}\n",
    "\n",
    "train_loss_list={0:[], 1:[], 2:[], 3:[], 4:[]}\n",
    "val_loss_list = {0:[], 1:[], 2:[], 3:[], 4:[]}"
   ]
  },
  {
   "cell_type": "code",
   "execution_count": 28,
   "metadata": {},
   "outputs": [],
   "source": [
    "# Define Model\n",
    "\n",
    "class NeuralNet(nn.Module):\n",
    "    def __init__(self, input_dim, hidden_size):\n",
    "        super(NeuralNet, self).__init__()\n",
    "        self.fc1 = nn.Linear(input_dim, hidden_size)\n",
    "        self.fc2 = nn.Linear(hidden_size, hidden_size)\n",
    "        self.fc3 = nn.Linear(hidden_size, 1)\n",
    "        self.relu = nn.ReLU()\n",
    "        self.sigmoid = nn.Sigmoid()\n",
    "\n",
    "    def forward(self, x):\n",
    "        x = self.relu(self.fc1(x))\n",
    "        x = self.relu(self.fc2(x))\n",
    "        x = self.sigmoid(self.fc3(x))\n",
    "        return x"
   ]
  },
  {
   "cell_type": "code",
   "execution_count": null,
   "metadata": {},
   "outputs": [],
   "source": [
    "# Enable or disable early stopping\n",
    "early_stopping_enabled = False\n",
    "\n",
    "# K-fold training loop\n",
    "count=0\n",
    "kf = KFold(n_splits=5, shuffle=True)\n",
    "for train_index, val_index in kf.split(X_temp):\n",
    "    X_train_tensor, X_val_tensor = X_temp[train_index], X_temp[val_index]\n",
    "    y_train_tensor, y_val_tensor = y_temp[train_index], y_temp[val_index]\n",
    "\n",
    "    train_dataset = TensorDataset(X_train_tensor, y_train_tensor)\n",
    "    train_loader = DataLoader(train_dataset, batch_size=para[\"batch_size\"][0], shuffle=True)\n",
    "\n",
    "    val_dataset = TensorDataset(X_val_tensor, y_val_tensor)\n",
    "    val_loader = DataLoader(val_dataset, batch_size=para[\"batch_size\"][0])\n",
    "\n",
    "    model = NeuralNet(n, para[\"hidden_size\"][0]).to(device)\n",
    "    criterion = nn.BCELoss()\n",
    "    optimizer = optim.Adam(model.parameters(), lr=para[\"lr\"][0], weight_decay=para[\"alpha\"][0])\n",
    "\n",
    "    num_epochs = para[\"num_epochs\"][0]\n",
    "    \n",
    "    # Variables required for early stopping\n",
    "    early_stopping_counter = 0\n",
    "    patience = 5\n",
    "    best_val_loss = float('inf')\n",
    "    \n",
    "    for _ in range(num_epochs):\n",
    "        model.train()\n",
    "        running_loss = 0.0\n",
    "        correct = 0 # accuracy cal\n",
    "        for input, label in train_loader:\n",
    "            optimizer.zero_grad()\n",
    "            outputs = model(input)\n",
    "            loss = criterion(outputs, label)\n",
    "            loss.backward()\n",
    "            optimizer.step()\n",
    "            \n",
    "            correct += (outputs.round()==label).float().sum().item()\n",
    "            running_loss+=loss.item()\n",
    "\n",
    "        avg_loss = running_loss/len(train_loader)\n",
    "        accuracy = 100*correct/len(X_train_tensor)\n",
    "        train_loss_list[count].append(avg_loss)\n",
    "        train_acc_list[count].append(accuracy)\n",
    "\n",
    "        model.eval()\n",
    "        valid_loss = 0.0\n",
    "        correct = 0\n",
    "        for input, label in val_loader:\n",
    "            target = model(input)\n",
    "            loss = criterion(target, label)\n",
    "            valid_loss += loss.item()\n",
    "            correct += (target.round()==label).float().sum().item()\n",
    "        avg_loss = valid_loss/len(val_loader)\n",
    "        accuracy = 100*correct/len(X_val_tensor)\n",
    "        val_loss_list[count].append(avg_loss)\n",
    "        val_acc_list[count].append(accuracy)\n",
    "        \n",
    "        # Early stopping check\n",
    "        if early_stopping_enabled:\n",
    "            if avg_loss < best_val_loss:\n",
    "                best_val_loss = avg_loss\n",
    "                early_stopping_counter = 0\n",
    "            else:\n",
    "                early_stopping_counter += 1\n",
    "            if early_stopping_counter > patience:\n",
    "                break\n",
    "            \n",
    "    count+=1\n"
   ]
  },
  {
   "cell_type": "code",
   "execution_count": null,
   "metadata": {},
   "outputs": [],
   "source": [
    "def homogenise(lists):\n",
    "    max_length = max(len(sublist) for sublist in lists)  # Find the length of the longest list\n",
    "    for sublist in lists:\n",
    "        sublist.extend([sublist[-1]] * (max_length - len(sublist)))  # Extend with last element\n",
    "    return lists"
   ]
  },
  {
   "cell_type": "code",
   "execution_count": null,
   "metadata": {},
   "outputs": [
    {
     "name": "stdout",
     "output_type": "stream",
     "text": [
      "Training accuracy (last epoch)\n",
      "K-fold 0 : 95.91145833333333\n",
      "K-fold 1 : 95.85069444444444\n",
      "K-fold 2 : 95.83333333333333\n",
      "K-fold 3 : 95.76388888888889\n",
      "K-fold 4 : 95.72916666666667\n",
      "---------------------------------\n",
      "Validation accuracy (last epoch)\n",
      "K-fold 0 : 95.45138888888889\n",
      "K-fold 1 : 95.83333333333333\n",
      "K-fold 2 : 95.76388888888889\n",
      "K-fold 3 : 95.9375\n",
      "K-fold 4 : 96.25\n"
     ]
    },
    {
     "data": {
      "image/png": "[encoded data removed]",
      "text/plain": [
       "<Figure size 640x480 with 1 Axes>"
      ]
     },
     "metadata": {},
     "output_type": "display_data"
    }
   ],
   "source": [
    "# Mean and std across each each kth fold of validation\n",
    "train_acc = []\n",
    "val_acc = []\n",
    "\n",
    "for i in range(5):\n",
    "    train_acc.append(train_acc_list[i])\n",
    "    val_acc.append(val_acc_list[i])\n",
    "\n",
    "train_acc = np.array(homogenise(train_acc))\n",
    "val_acc = np.array(homogenise(val_acc))\n",
    "\n",
    "train_mean = np.mean(train_acc, axis=0)\n",
    "val_mean = np.mean(val_acc, axis=0)\n",
    "\n",
    "train_std = np.std(train_acc, axis=0)\n",
    "val_std = np.std(val_acc, axis=0)\n",
    "\n",
    "plt.plot(train_mean)\n",
    "plt.fill_between(range(len(train_mean)),train_mean-train_std,train_mean+train_std,alpha=.6)\n",
    "plt.title(\"Training Accuracy per epoch\")\n",
    "plt.savefig(\"train_acc.png\")\n",
    "plt.close()\n",
    "\n",
    "plt.plot(val_mean)\n",
    "plt.fill_between(range(len(val_mean)),val_mean-val_std,val_mean+val_std,alpha=.6)\n",
    "plt.title(\"Validation Accuracy per epoch\")\n",
    "plt.savefig(\"val_acc.png\")\n",
    "\n",
    "print(\"Training accuracy (last epoch)\")\n",
    "for i in range(5):\n",
    "    print(\"K-fold\", i, \":\", train_acc[i][-1])\n",
    "print(\"---------------------------------\")\n",
    "print(\"Validation accuracy (last epoch)\")\n",
    "for i in range(5):\n",
    "    print(\"K-fold\", i, \":\", val_acc[i][-1])"
   ]
  },
  {
   "cell_type": "code",
   "execution_count": null,
   "metadata": {},
   "outputs": [
    {
     "name": "stdout",
     "output_type": "stream",
     "text": [
      "Training loss (last epoch)\n",
      "K-fold 0 : 0.17660832529266676\n",
      "K-fold 1 : 0.18062516839967835\n",
      "K-fold 2 : 0.17912023837367694\n",
      "K-fold 3 : 0.18619740199711587\n",
      "K-fold 4 : 0.18746564272377225\n",
      "---------------------------------\n",
      "Validation loss (last epoch)\n",
      "K-fold 0 : 0.1940130468295968\n",
      "K-fold 1 : 0.19109227961820105\n",
      "K-fold 2 : 0.19528120529392493\n",
      "K-fold 3 : 0.2020137459039688\n",
      "K-fold 4 : 0.1768105658500091\n"
     ]
    },
    {
     "data": {
      "image/png": "[encoded data removed]",
      "text/plain": [
       "<Figure size 640x480 with 1 Axes>"
      ]
     },
     "metadata": {},
     "output_type": "display_data"
    }
   ],
   "source": [
    "# Mean and std across each each kth fold of validation\n",
    "train_loss = []\n",
    "val_loss = []\n",
    "\n",
    "for i in range(5):\n",
    "    train_loss.append(train_loss_list[i])\n",
    "    val_loss.append(val_loss_list[i])\n",
    "\n",
    "train_loss = np.array(homogenise(train_loss))\n",
    "val_loss = np.array(homogenise(val_loss))\n",
    "\n",
    "train_mean = np.mean(train_loss, axis=0)\n",
    "val_mean = np.mean(val_loss, axis=0)\n",
    "\n",
    "train_std = np.std(train_loss, axis=0)\n",
    "val_std = np.std(val_loss, axis=0)\n",
    "\n",
    "plt.plot(train_mean)\n",
    "plt.fill_between(range(len(train_mean)),train_mean-train_std,train_mean+train_std,alpha=.6)\n",
    "plt.title(\"Training Loss per epoch\")\n",
    "plt.savefig(\"train_loss.png\")\n",
    "plt.close()\n",
    "\n",
    "plt.plot(val_mean)\n",
    "plt.fill_between(range(len(val_mean)),val_mean-val_std,val_mean+val_std,alpha=.6)\n",
    "plt.title(\"Validation Loss per epoch\")\n",
    "plt.savefig(\"val_loss.png\")\n",
    "\n",
    "print(\"Training loss (last epoch)\")\n",
    "for i in range(5):\n",
    "    print(\"K-fold\", i, \":\", train_loss[i][-1])\n",
    "print(\"---------------------------------\")\n",
    "print(\"Validation loss (last epoch)\")\n",
    "for i in range(5):\n",
    "    print(\"K-fold\", i, \":\", val_loss[i][-1])"
   ]
  },
  {
   "cell_type": "code",
   "execution_count": null,
   "metadata": {},
   "outputs": [
    {
     "name": "stdout",
     "output_type": "stream",
     "text": [
      "---------------------\n",
      "Test Accuracy\n",
      "95.75\n"
     ]
    }
   ],
   "source": [
    "# Test dataset\n",
    "model.eval()\n",
    "test_loss = 0.0\n",
    "correct = 0\n",
    "for input, label in test_loader:\n",
    "    target = model(input)\n",
    "    loss = criterion(target, label)\n",
    "    valid_loss += loss.item()\n",
    "    correct += (target.round()==label).float().sum().item()\n",
    "avg_loss = valid_loss/len(test_loader)\n",
    "accuracy = 100*correct/len(X_test)\n",
    "\n",
    "print(\"---------------------\")\n",
    "print(\"Test Accuracy\")\n",
    "print(accuracy)"
   ]
  },
  {
   "cell_type": "code",
   "execution_count": null,
   "metadata": {},
   "outputs": [],
   "source": []
  },
  {
   "cell_type": "code",
   "execution_count": null,
   "metadata": {},
   "outputs": [],
   "source": []
  }
 ],
 "metadata": {
  "kernelspec": {
   "display_name": "venv",
   "language": "python",
   "name": "python3"
  },
  "language_info": {
   "codemirror_mode": {
    "name": "ipython",
    "version": 3
   },
   "file_extension": ".py",
   "mimetype": "text/x-python",
   "name": "python",
   "nbconvert_exporter": "python",
   "pygments_lexer": "ipython3",
   "version": "3.11.9"
  }
 },
 "nbformat": 4,
 "nbformat_minor": 2
}
