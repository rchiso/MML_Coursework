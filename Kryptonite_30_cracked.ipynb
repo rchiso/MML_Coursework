{
 "cells": [
  {
   "cell_type": "code",
   "execution_count": 1,
   "metadata": {
    "id": "VTADQv5TaJI1"
   },
   "outputs": [],
   "source": [
    "import numpy as np\n",
    "from sklearn.model_selection import train_test_split\n",
    "import matplotlib.pyplot as plt\n",
    "import torch"
   ]
  },
  {
   "cell_type": "code",
   "execution_count": 2,
   "metadata": {
    "colab": {
     "base_uri": "https://localhost:8080/"
    },
    "id": "KfhiwBCj_iOh",
    "outputId": "e1fb5ea8-0e2b-4457-8a3b-41e3a887f07d"
   },
   "outputs": [
    {
     "data": {
      "text/plain": [
       "device(type='cuda')"
      ]
     },
     "execution_count": 2,
     "metadata": {},
     "output_type": "execute_result"
    }
   ],
   "source": [
    "# Check if GPU is available and set the device\n",
    "device = torch.device(\"cuda\" if torch.cuda.is_available() else \"cpu\")\n",
    "device"
   ]
  },
  {
   "cell_type": "code",
   "execution_count": 3,
   "metadata": {
    "id": "HqT0Z70oaTvz"
   },
   "outputs": [],
   "source": [
    "n = 30"
   ]
  },
  {
   "cell_type": "code",
   "execution_count": 4,
   "metadata": {
    "colab": {
     "base_uri": "https://localhost:8080/"
    },
    "id": "LUOWKTUSaab-",
    "outputId": "d65ea8aa-37f2-4ccd-98f8-a3f6df1d8101"
   },
   "outputs": [
    {
     "data": {
      "text/plain": [
       "(310000,)"
      ]
     },
     "execution_count": 4,
     "metadata": {},
     "output_type": "execute_result"
    }
   ],
   "source": [
    "X = np.vstack([np.load(f\"Datasets/kryptonite-{n}-X.npy\"), np.load(f\"Datasets/additional-kryptonite-{n}-X.npy\")])\n",
    "y = np.concatenate([np.load(f\"Datasets/kryptonite-{n}-y.npy\"), np.load(f\"Datasets/additional-kryptonite-{n}-y.npy\")])\n",
    "X.shape\n",
    "y.shape"
   ]
  },
  {
   "cell_type": "code",
   "execution_count": 5,
   "metadata": {
    "colab": {
     "base_uri": "https://localhost:8080/"
    },
    "id": "ZijlHVSGjqbS",
    "outputId": "85ad7bcc-27d9-4b9a-adf1-4d7801aa6db2"
   },
   "outputs": [
    {
     "name": "stdout",
     "output_type": "stream",
     "text": [
      "(302019, 30) (302019,)\n",
      "[[1 1 1 ... 1 0 0]\n",
      " [1 1 0 ... 1 1 0]\n",
      " [0 1 1 ... 0 0 0]\n",
      " ...\n",
      " [0 0 1 ... 0 1 0]\n",
      " [1 0 0 ... 1 1 1]\n",
      " [1 0 1 ... 1 1 0]]\n"
     ]
    }
   ],
   "source": [
    "# Remove ambiguous rows\n",
    "am = 0.2\n",
    "non_am_rows = (((X > 0.5-am) & (X < 0.5+am)).sum(axis=1) == 0)\n",
    "X_nam = X[non_am_rows]\n",
    "y_nam = y[non_am_rows]\n",
    "\n",
    "def round_to_binary_numpy(values):\n",
    "    \"\"\"\n",
    "    Rounds each value in the input NumPy array to 0 or 1 based on closeness.\n",
    "    \"\"\"\n",
    "    values = np.array(values)  # Ensure input is a NumPy array\n",
    "    return (values >= 0.5).astype(int)\n",
    "\n",
    "X_mod = round_to_binary_numpy(X_nam)\n",
    "\n",
    "X_final = X_mod\n",
    "y_final = y_nam\n",
    "\n",
    "print(X_final.shape, y_final.shape)\n",
    "print(X_final)"
   ]
  },
  {
   "cell_type": "code",
   "execution_count": 6,
   "metadata": {
    "colab": {
     "base_uri": "https://localhost:8080/"
    },
    "id": "Kheb8TOdle2u",
    "outputId": "c127d89d-4c59-491c-e8fe-0d8390a10e5e"
   },
   "outputs": [
    {
     "name": "stdout",
     "output_type": "stream",
     "text": [
      "(181211, 30) (60404, 30) (60404, 30)\n"
     ]
    }
   ],
   "source": [
    "# Shuffle and split the data\n",
    "X_train, X_temp, y_train, y_temp = train_test_split(X_final, y_final, test_size=0.4, random_state=42)  # 60% training\n",
    "X_val, X_test, y_val, y_test = train_test_split(X_temp, y_temp, test_size=0.5, random_state=42)  # 20% validation, 20% test\n",
    "print(X_train.shape, X_val.shape, X_test.shape)"
   ]
  },
  {
   "cell_type": "code",
   "execution_count": 7,
   "metadata": {
    "id": "3JXgKd6OlqEf"
   },
   "outputs": [],
   "source": [
    "class NeuralNetwork(torch.nn.Module):\n",
    "    def __init__(self, layer_sizes, dropout_rate=0.5):\n",
    "        super(NeuralNetwork, self).__init__()\n",
    "\n",
    "        # Create layers based on layer_sizes\n",
    "        layers = []\n",
    "        for i in range(len(layer_sizes) - 1):\n",
    "            layers.append(torch.nn.Linear(layer_sizes[i], layer_sizes[i + 1]))\n",
    "\n",
    "            # Add activation function and dropout except for the last layer\n",
    "            if i < len(layer_sizes) - 2:\n",
    "                layers.append(torch.nn.ReLU())\n",
    "                #layers.append(torch.nn.Dropout(dropout_rate))  # Add dropout with specified rate\n",
    "\n",
    "        # Use nn.Sequential to stack the layers\n",
    "        self.model = torch.nn.Sequential(*layers)\n",
    "\n",
    "    def forward(self, x):\n",
    "        return self.model(x)"
   ]
  },
  {
   "cell_type": "code",
   "execution_count": 8,
   "metadata": {
    "colab": {
     "base_uri": "https://localhost:8080/"
    },
    "id": "iAsjao88_6MH",
    "outputId": "45f8625c-37f8-4c43-dad5-8481e7a37d0c"
   },
   "outputs": [
    {
     "data": {
      "text/plain": [
       "device(type='cuda')"
      ]
     },
     "execution_count": 8,
     "metadata": {},
     "output_type": "execute_result"
    }
   ],
   "source": [
    "device"
   ]
  },
  {
   "cell_type": "code",
   "execution_count": 9,
   "metadata": {
    "colab": {
     "base_uri": "https://localhost:8080/"
    },
    "id": "jYPSqpJKlsQY",
    "outputId": "59a13cd9-829d-450c-ce97-90cd1ba0da21"
   },
   "outputs": [
    {
     "name": "stdout",
     "output_type": "stream",
     "text": [
      "82018\n",
      "(181211, 30)\n"
     ]
    }
   ],
   "source": [
    "seed = 2\n",
    "torch.manual_seed(seed)\n",
    "\n",
    "layer_sizes = [n, 128, 16, 2] # best setting for n = 24\n",
    "\n",
    "layer_sizes = [n, 256, 256, 32, 2] # best setting for n = 30\n",
    "\n",
    "net = NeuralNetwork(layer_sizes, dropout_rate=0.2).to(device)\n",
    "\n",
    "# Define the loss function and optimizer\n",
    "criterion = torch.nn.CrossEntropyLoss()\n",
    "optimizer = torch.optim.AdamW(net.parameters(), amsgrad=True, weight_decay=0.12)\n",
    "\n",
    "def count_parameters(model):\n",
    "    \"\"\"\n",
    "    Counts the total number of trainable parameters in a PyTorch model.\n",
    "    \"\"\"\n",
    "    return sum(p.numel() for p in model.parameters() if p.requires_grad)\n",
    "\n",
    "print(count_parameters(net))\n",
    "print(X_train.shape)"
   ]
  },
  {
   "cell_type": "code",
   "execution_count": 10,
   "metadata": {
    "id": "f6Ky5b_yl7fx"
   },
   "outputs": [],
   "source": [
    "# Convert input data to PyTorch tensors and move to GPU\n",
    "X_train_tensor = torch.from_numpy(X_train).float().to(device)\n",
    "y_train_tensor = torch.from_numpy(y_train).long().to(device)\n",
    "X_val_tensor = torch.from_numpy(X_val).float().to(device)\n",
    "y_val_tensor = torch.from_numpy(y_val).long().to(device)"
   ]
  },
  {
   "cell_type": "code",
   "execution_count": 11,
   "metadata": {
    "colab": {
     "base_uri": "https://localhost:8080/",
     "height": 1000
    },
    "id": "Zky6QbVKl7aN",
    "outputId": "9b8ebc7b-9293-45e8-98cf-cffd0aaab875"
   },
   "outputs": [
    {
     "name": "stdout",
     "output_type": "stream",
     "text": [
      "Epoch [100/5000]\n",
      "Train Loss: 0.6773, Train Accuracy: 57.78%\n",
      "Val Loss: 0.7000, Val Accuracy: 50.14%\n",
      "\n",
      "Epoch [200/5000]\n",
      "Train Loss: 0.6551, Train Accuracy: 61.40%\n",
      "Val Loss: 0.7156, Val Accuracy: 50.57%\n",
      "\n",
      "Epoch [300/5000]\n",
      "Train Loss: 0.6380, Train Accuracy: 63.56%\n",
      "Val Loss: 0.7297, Val Accuracy: 50.76%\n",
      "\n",
      "Epoch [400/5000]\n",
      "Train Loss: 0.6203, Train Accuracy: 65.82%\n",
      "Val Loss: 0.7372, Val Accuracy: 51.02%\n",
      "\n",
      "Epoch [500/5000]\n",
      "Train Loss: 0.6064, Train Accuracy: 67.07%\n",
      "Val Loss: 0.7485, Val Accuracy: 51.19%\n",
      "\n",
      "Epoch [600/5000]\n",
      "Train Loss: 0.5957, Train Accuracy: 68.12%\n",
      "Val Loss: 0.7580, Val Accuracy: 51.30%\n",
      "\n",
      "Epoch [700/5000]\n",
      "Train Loss: 0.5952, Train Accuracy: 68.81%\n",
      "Val Loss: 0.7635, Val Accuracy: 51.48%\n",
      "\n",
      "Epoch [800/5000]\n",
      "Train Loss: 0.5850, Train Accuracy: 69.55%\n",
      "Val Loss: 0.7706, Val Accuracy: 51.74%\n",
      "\n",
      "Epoch [900/5000]\n",
      "Train Loss: 0.5655, Train Accuracy: 70.76%\n",
      "Val Loss: 0.7756, Val Accuracy: 52.26%\n",
      "\n",
      "Epoch [1000/5000]\n",
      "Train Loss: 0.5579, Train Accuracy: 71.34%\n",
      "Val Loss: 0.7796, Val Accuracy: 52.54%\n",
      "\n",
      "Epoch [1100/5000]\n",
      "Train Loss: 0.5537, Train Accuracy: 71.62%\n",
      "Val Loss: 0.7860, Val Accuracy: 52.99%\n",
      "\n",
      "Epoch [1200/5000]\n",
      "Train Loss: 0.5404, Train Accuracy: 71.49%\n",
      "Val Loss: 0.7921, Val Accuracy: 53.16%\n",
      "\n",
      "Epoch [1300/5000]\n",
      "Train Loss: 0.5304, Train Accuracy: 73.87%\n",
      "Val Loss: 0.7743, Val Accuracy: 54.34%\n",
      "\n",
      "Epoch [1400/5000]\n",
      "Train Loss: 0.5099, Train Accuracy: 75.67%\n",
      "Val Loss: 0.7574, Val Accuracy: 55.70%\n",
      "\n",
      "Epoch [1500/5000]\n",
      "Train Loss: 0.4914, Train Accuracy: 76.83%\n",
      "Val Loss: 0.7410, Val Accuracy: 57.78%\n",
      "\n",
      "Epoch [1600/5000]\n",
      "Train Loss: 0.4898, Train Accuracy: 77.11%\n",
      "Val Loss: 0.7303, Val Accuracy: 59.10%\n",
      "\n",
      "Epoch [1700/5000]\n",
      "Train Loss: 0.4631, Train Accuracy: 78.78%\n",
      "Val Loss: 0.7083, Val Accuracy: 60.84%\n",
      "\n",
      "Epoch [1800/5000]\n",
      "Train Loss: 0.4695, Train Accuracy: 76.69%\n",
      "Val Loss: 0.7237, Val Accuracy: 61.88%\n",
      "\n",
      "Epoch [1900/5000]\n",
      "Train Loss: 0.4350, Train Accuracy: 80.31%\n",
      "Val Loss: 0.6857, Val Accuracy: 63.12%\n",
      "\n",
      "Epoch [2000/5000]\n",
      "Train Loss: 0.4389, Train Accuracy: 79.54%\n",
      "Val Loss: 0.6961, Val Accuracy: 63.09%\n",
      "\n",
      "Epoch [2100/5000]\n",
      "Train Loss: 0.4171, Train Accuracy: 81.62%\n",
      "Val Loss: 0.6667, Val Accuracy: 64.96%\n",
      "\n",
      "Epoch [2200/5000]\n",
      "Train Loss: 0.4232, Train Accuracy: 81.17%\n",
      "Val Loss: 0.6733, Val Accuracy: 65.11%\n",
      "\n",
      "Epoch [2300/5000]\n",
      "Train Loss: 0.4071, Train Accuracy: 82.21%\n",
      "Val Loss: 0.6603, Val Accuracy: 66.26%\n",
      "\n",
      "Epoch [2400/5000]\n",
      "Train Loss: 0.3899, Train Accuracy: 83.36%\n",
      "Val Loss: 0.6452, Val Accuracy: 67.27%\n",
      "\n",
      "Epoch [2500/5000]\n",
      "Train Loss: 0.3879, Train Accuracy: 83.81%\n",
      "Val Loss: 0.6378, Val Accuracy: 68.05%\n",
      "\n",
      "Epoch [2600/5000]\n",
      "Train Loss: 0.3699, Train Accuracy: 84.49%\n",
      "Val Loss: 0.6252, Val Accuracy: 69.05%\n",
      "\n",
      "Epoch [2700/5000]\n",
      "Train Loss: 0.3657, Train Accuracy: 84.59%\n",
      "Val Loss: 0.6252, Val Accuracy: 69.62%\n",
      "\n",
      "Epoch [2800/5000]\n",
      "Train Loss: 0.4018, Train Accuracy: 83.86%\n",
      "Val Loss: 0.6260, Val Accuracy: 69.64%\n",
      "\n",
      "Epoch [2900/5000]\n",
      "Train Loss: 0.3490, Train Accuracy: 85.77%\n",
      "Val Loss: 0.6061, Val Accuracy: 71.22%\n",
      "\n",
      "Epoch [3000/5000]\n",
      "Train Loss: 0.3442, Train Accuracy: 86.10%\n",
      "Val Loss: 0.5974, Val Accuracy: 71.93%\n",
      "\n",
      "Epoch [3100/5000]\n",
      "Train Loss: 0.3357, Train Accuracy: 86.29%\n",
      "Val Loss: 0.5944, Val Accuracy: 72.37%\n",
      "\n",
      "Epoch [3200/5000]\n",
      "Train Loss: 0.3408, Train Accuracy: 85.99%\n",
      "Val Loss: 0.6004, Val Accuracy: 72.30%\n",
      "\n",
      "Epoch [3300/5000]\n",
      "Train Loss: 0.3304, Train Accuracy: 87.31%\n",
      "Val Loss: 0.5780, Val Accuracy: 73.61%\n",
      "\n",
      "Epoch [3400/5000]\n",
      "Train Loss: 0.3312, Train Accuracy: 85.81%\n",
      "Val Loss: 0.5991, Val Accuracy: 72.60%\n",
      "\n",
      "Epoch [3500/5000]\n",
      "Train Loss: 0.3140, Train Accuracy: 87.67%\n",
      "Val Loss: 0.5744, Val Accuracy: 74.14%\n",
      "\n",
      "Epoch [3600/5000]\n",
      "Train Loss: 0.3186, Train Accuracy: 87.22%\n",
      "Val Loss: 0.5825, Val Accuracy: 73.91%\n",
      "\n",
      "Epoch [3700/5000]\n",
      "Train Loss: 0.3666, Train Accuracy: 85.33%\n",
      "Val Loss: 0.6112, Val Accuracy: 72.52%\n",
      "\n",
      "Epoch [3800/5000]\n",
      "Train Loss: 0.3047, Train Accuracy: 88.16%\n",
      "Val Loss: 0.5692, Val Accuracy: 74.65%\n",
      "\n",
      "Epoch [3900/5000]\n",
      "Train Loss: 0.3237, Train Accuracy: 86.18%\n",
      "Val Loss: 0.5995, Val Accuracy: 73.27%\n",
      "\n",
      "Epoch [4000/5000]\n",
      "Train Loss: 0.3131, Train Accuracy: 87.60%\n",
      "Val Loss: 0.5785, Val Accuracy: 74.48%\n",
      "\n",
      "Epoch [4100/5000]\n",
      "Train Loss: 0.3012, Train Accuracy: 88.03%\n",
      "Val Loss: 0.5744, Val Accuracy: 74.71%\n",
      "\n",
      "Epoch [4200/5000]\n",
      "Train Loss: 0.2957, Train Accuracy: 88.64%\n",
      "Val Loss: 0.5647, Val Accuracy: 75.35%\n",
      "\n",
      "Epoch [4300/5000]\n",
      "Train Loss: 0.3141, Train Accuracy: 87.34%\n",
      "Val Loss: 0.5869, Val Accuracy: 74.15%\n",
      "\n",
      "Epoch [4400/5000]\n",
      "Train Loss: 0.2969, Train Accuracy: 88.28%\n",
      "Val Loss: 0.5735, Val Accuracy: 75.02%\n",
      "\n",
      "Epoch [4500/5000]\n",
      "Train Loss: 0.3039, Train Accuracy: 88.37%\n",
      "Val Loss: 0.5731, Val Accuracy: 74.98%\n",
      "\n",
      "Epoch [4600/5000]\n",
      "Train Loss: 0.3090, Train Accuracy: 87.55%\n",
      "Val Loss: 0.5881, Val Accuracy: 74.43%\n",
      "\n",
      "Epoch [4700/5000]\n",
      "Train Loss: 0.3007, Train Accuracy: 88.01%\n",
      "Val Loss: 0.5820, Val Accuracy: 74.70%\n",
      "\n",
      "Epoch [4800/5000]\n",
      "Train Loss: 0.2863, Train Accuracy: 88.89%\n",
      "Val Loss: 0.5690, Val Accuracy: 75.37%\n",
      "\n",
      "Epoch [4900/5000]\n",
      "Train Loss: 0.3021, Train Accuracy: 88.35%\n",
      "Val Loss: 0.5792, Val Accuracy: 74.98%\n",
      "\n",
      "Epoch [5000/5000]\n",
      "Train Loss: 0.2970, Train Accuracy: 88.05%\n",
      "Val Loss: 0.5859, Val Accuracy: 74.64%\n",
      "\n",
      "Best val loss: 0.5647196173667908\n"
     ]
    },
    {
     "data": {
      "text/plain": [
       "<All keys matched successfully>"
      ]
     },
     "execution_count": 11,
     "metadata": {},
     "output_type": "execute_result"
    }
   ],
   "source": [
    "# Training parameters\n",
    "num_epochs = 5000\n",
    "print_interval = 100\n",
    "\n",
    "# Lists to store metrics for plotting\n",
    "train_losses = []\n",
    "train_accuracies = []\n",
    "val_losses = []\n",
    "val_accuracies = []\n",
    "\n",
    "best_val_loss = 1\n",
    "best_model_state = None\n",
    "\n",
    "for epoch in range(num_epochs):\n",
    "    # Training mode\n",
    "    net.train()\n",
    "\n",
    "    optimizer.zero_grad()\n",
    "\n",
    "    # Forward pass on training data\n",
    "    output_train = net(X_train_tensor)\n",
    "    train_loss = criterion(output_train, y_train_tensor)\n",
    "\n",
    "    # Backward pass and optimization\n",
    "    train_loss.backward()\n",
    "    optimizer.step()\n",
    "\n",
    "    if (epoch + 1) % print_interval == 0:\n",
    "        # Validation mode\n",
    "        net.eval()\n",
    "        with torch.no_grad():  # No gradient calculation during validation\n",
    "            output_train = net(X_train_tensor)\n",
    "            _, predicted_train = torch.max(output_train, 1)\n",
    "            train_accuracy = (predicted_train == y_train_tensor).float().mean().item()\n",
    "\n",
    "            output_val = net(X_val_tensor)\n",
    "            val_loss = criterion(output_val, y_val_tensor)\n",
    "\n",
    "            # Calculate validation accuracy\n",
    "            _, predicted_val = torch.max(output_val, 1)\n",
    "            val_accuracy = (predicted_val == y_val_tensor).float().mean().item()\n",
    "\n",
    "        print(f\"Epoch [{epoch + 1}/{num_epochs}]\")\n",
    "        print(f\"Train Loss: {train_loss.item():.4f}, Train Accuracy: {train_accuracy * 100:.2f}%\")\n",
    "        print(f\"Val Loss: {val_loss.item():.4f}, Val Accuracy: {val_accuracy * 100:.2f}%\\n\")\n",
    "\n",
    "        # store all values for plotting\n",
    "        train_losses.append(train_loss.item())\n",
    "        train_accuracies.append(train_accuracy)\n",
    "        val_losses.append(val_loss.item())\n",
    "        val_accuracies.append(val_accuracy)\n",
    "\n",
    "        if val_loss < best_val_loss:\n",
    "            best_val_loss = val_loss\n",
    "            best_model_state = net.state_dict()\n",
    "\n",
    "print(f\"Best val loss: {best_val_loss}\")            \n",
    "#  restore model with best val loss\n",
    "net.load_state_dict(best_model_state)"
   ]
  },
  {
   "cell_type": "code",
   "execution_count": 12,
   "metadata": {
    "colab": {
     "base_uri": "https://localhost:8080/",
     "height": 507
    },
    "id": "X3m-2NJ5DWtc",
    "outputId": "81e25414-1393-473d-a3cf-b82bc2c5bd52"
   },
   "outputs": [
    {
     "data": {
      "image/png": "[encoded data removed]",
      "text/plain": [
       "<Figure size 1200x500 with 2 Axes>"
      ]
     },
     "metadata": {},
     "output_type": "display_data"
    }
   ],
   "source": [
    "epochs = range(1, num_epochs + 1)\n",
    "plt.figure(figsize=(12, 5))\n",
    "\n",
    "# Plot Train and Validation Loss\n",
    "plt.subplot(1, 2, 1)\n",
    "plt.plot(epochs[print_interval - 1::print_interval][:len(train_losses)], train_losses, label=\"Train Loss\")\n",
    "plt.plot(epochs[print_interval - 1::print_interval][:len(val_losses)], val_losses, label=\"Validation Loss\")\n",
    "plt.xlabel(\"Epochs\")\n",
    "plt.ylabel(\"Loss\")\n",
    "plt.title(\"Train and Validation Loss\")\n",
    "plt.legend()\n",
    "\n",
    "# Plot Train and Validation Accuracy\n",
    "plt.subplot(1, 2, 2)\n",
    "plt.plot(epochs[print_interval - 1::print_interval][:len(train_accuracies)], train_accuracies, label=\"Train Accuracy\")\n",
    "plt.plot(epochs[print_interval - 1::print_interval][:len(val_accuracies)], val_accuracies, label=\"Validation Accuracy\")\n",
    "plt.xlabel(\"Epochs\")\n",
    "plt.ylabel(\"Accuracy\")\n",
    "plt.title(\"Train and Validation Accuracy\")\n",
    "plt.legend()\n",
    "\n",
    "plt.tight_layout()\n",
    "plt.show()"
   ]
  },
  {
   "cell_type": "code",
   "execution_count": 13,
   "metadata": {
    "colab": {
     "base_uri": "https://localhost:8080/"
    },
    "id": "ItzXBotxpptM",
    "outputId": "8d63efbb-321b-4783-b6c2-d43e918a3259"
   },
   "outputs": [
    {
     "name": "stdout",
     "output_type": "stream",
     "text": [
      "Test Accuracy: 74.21%\n",
      "\n"
     ]
    }
   ],
   "source": [
    "# check train accuracy\n",
    "X_test_tensor = torch.from_numpy(X_test).float().to(device)\n",
    "y_test_tensor = torch.from_numpy(y_test).long().to(device)\n",
    "\n",
    "net.eval()\n",
    "with torch.no_grad():  # No gradient calculation during validation\n",
    "    output_test = net(X_test_tensor)\n",
    "    _, predicted_test = torch.max(output_test, 1)\n",
    "    test_accuracy = (predicted_test == y_test_tensor).float().mean().item()\n",
    "    print(f\"Test Accuracy: {test_accuracy * 100:.2f}%\\n\")"
   ]
  }
 ],
 "metadata": {
  "accelerator": "GPU",
  "colab": {
   "gpuType": "T4",
   "provenance": []
  },
  "kernelspec": {
   "display_name": "venv",
   "language": "python",
   "name": "python3"
  },
  "language_info": {
   "codemirror_mode": {
    "name": "ipython",
    "version": 3
   },
   "file_extension": ".py",
   "mimetype": "text/x-python",
   "name": "python",
   "nbconvert_exporter": "python",
   "pygments_lexer": "ipython3",
   "version": "3.11.9"
  }
 },
 "nbformat": 4,
 "nbformat_minor": 0
}
