{
 "cells": [
  {
   "cell_type": "code",
   "execution_count": 1,
   "metadata": {
    "id": "VTADQv5TaJI1"
   },
   "outputs": [],
   "source": [
    "import numpy as np\n",
    "from sklearn.model_selection import train_test_split\n",
    "import matplotlib.pyplot as plt\n",
    "import torch"
   ]
  },
  {
   "cell_type": "code",
   "execution_count": 2,
   "metadata": {
    "colab": {
     "base_uri": "https://localhost:8080/"
    },
    "id": "KfhiwBCj_iOh",
    "outputId": "e1fb5ea8-0e2b-4457-8a3b-41e3a887f07d"
   },
   "outputs": [
    {
     "data": {
      "text/plain": [
       "device(type='cuda')"
      ]
     },
     "execution_count": 2,
     "metadata": {},
     "output_type": "execute_result"
    }
   ],
   "source": [
    "# Check if GPU is available and set the device\n",
    "device = torch.device(\"cuda\" if torch.cuda.is_available() else \"cpu\")\n",
    "device"
   ]
  },
  {
   "cell_type": "code",
   "execution_count": 3,
   "metadata": {
    "id": "HqT0Z70oaTvz"
   },
   "outputs": [],
   "source": [
    "n = 30"
   ]
  },
  {
   "cell_type": "code",
   "execution_count": 4,
   "metadata": {
    "colab": {
     "base_uri": "https://localhost:8080/"
    },
    "id": "LUOWKTUSaab-",
    "outputId": "d65ea8aa-37f2-4ccd-98f8-a3f6df1d8101"
   },
   "outputs": [
    {
     "data": {
      "text/plain": [
       "(310000,)"
      ]
     },
     "execution_count": 4,
     "metadata": {},
     "output_type": "execute_result"
    }
   ],
   "source": [
    "X = np.vstack([np.load(f\"Datasets/kryptonite-{n}-X.npy\"), np.load(f\"Datasets/additional-kryptonite-{n}-X.npy\")])\n",
    "y = np.concatenate([np.load(f\"Datasets/kryptonite-{n}-y.npy\"), np.load(f\"Datasets/additional-kryptonite-{n}-y.npy\")])\n",
    "X.shape\n",
    "y.shape"
   ]
  },
  {
   "cell_type": "code",
   "execution_count": 5,
   "metadata": {
    "colab": {
     "base_uri": "https://localhost:8080/"
    },
    "id": "ZijlHVSGjqbS",
    "outputId": "85ad7bcc-27d9-4b9a-adf1-4d7801aa6db2"
   },
   "outputs": [
    {
     "name": "stdout",
     "output_type": "stream",
     "text": [
      "(302019, 30) (302019,)\n",
      "[[1 1 1 ... 1 0 0]\n",
      " [1 1 0 ... 1 1 0]\n",
      " [0 1 1 ... 0 0 0]\n",
      " ...\n",
      " [0 0 1 ... 0 1 0]\n",
      " [1 0 0 ... 1 1 1]\n",
      " [1 0 1 ... 1 1 0]]\n"
     ]
    }
   ],
   "source": [
    "# Remove ambiguous rows\n",
    "am = 0.2\n",
    "non_am_rows = (((X > 0.5-am) & (X < 0.5+am)).sum(axis=1) == 0)\n",
    "X_nam = X[non_am_rows]\n",
    "y_nam = y[non_am_rows]\n",
    "\n",
    "def round_to_binary_numpy(values):\n",
    "    \"\"\"\n",
    "    Rounds each value in the input NumPy array to 0 or 1 based on closeness.\n",
    "    \"\"\"\n",
    "    values = np.array(values)  # Ensure input is a NumPy array\n",
    "    return (values >= 0.5).astype(int)\n",
    "\n",
    "X_mod = round_to_binary_numpy(X_nam)\n",
    "\n",
    "X_final = X_mod\n",
    "y_final = y_nam\n",
    "\n",
    "print(X_final.shape, y_final.shape)\n",
    "print(X_final)"
   ]
  },
  {
   "cell_type": "code",
   "execution_count": 6,
   "metadata": {
    "colab": {
     "base_uri": "https://localhost:8080/"
    },
    "id": "Kheb8TOdle2u",
    "outputId": "c127d89d-4c59-491c-e8fe-0d8390a10e5e"
   },
   "outputs": [
    {
     "name": "stdout",
     "output_type": "stream",
     "text": [
      "(181211, 30) (60404, 30) (60404, 30)\n"
     ]
    }
   ],
   "source": [
    "# Shuffle and split the data\n",
    "X_train, X_temp, y_train, y_temp = train_test_split(X_final, y_final, test_size=0.4, random_state=42)  # 60% training\n",
    "X_val, X_test, y_val, y_test = train_test_split(X_temp, y_temp, test_size=0.5, random_state=42)  # 20% validation, 20% test\n",
    "print(X_train.shape, X_val.shape, X_test.shape)"
   ]
  },
  {
   "cell_type": "code",
   "execution_count": 7,
   "metadata": {
    "id": "3JXgKd6OlqEf"
   },
   "outputs": [],
   "source": [
    "class NeuralNetwork(torch.nn.Module):\n",
    "    def __init__(self, layer_sizes, dropout_rate=0.5):\n",
    "        super(NeuralNetwork, self).__init__()\n",
    "\n",
    "        # Create layers based on layer_sizes\n",
    "        layers = []\n",
    "        for i in range(len(layer_sizes) - 1):\n",
    "            layers.append(torch.nn.Linear(layer_sizes[i], layer_sizes[i + 1]))\n",
    "\n",
    "            # Add activation function and dropout except for the last layer\n",
    "            if i < len(layer_sizes) - 2:\n",
    "                layers.append(torch.nn.ReLU())\n",
    "                #layers.append(torch.nn.Dropout(dropout_rate))  # Add dropout with specified rate\n",
    "\n",
    "        # Use nn.Sequential to stack the layers\n",
    "        self.model = torch.nn.Sequential(*layers)\n",
    "\n",
    "    def forward(self, x):\n",
    "        return self.model(x)"
   ]
  },
  {
   "cell_type": "code",
   "execution_count": 8,
   "metadata": {
    "colab": {
     "base_uri": "https://localhost:8080/"
    },
    "id": "iAsjao88_6MH",
    "outputId": "45f8625c-37f8-4c43-dad5-8481e7a37d0c"
   },
   "outputs": [
    {
     "data": {
      "text/plain": [
       "device(type='cuda')"
      ]
     },
     "execution_count": 8,
     "metadata": {},
     "output_type": "execute_result"
    }
   ],
   "source": [
    "device"
   ]
  },
  {
   "cell_type": "code",
   "execution_count": 9,
   "metadata": {
    "colab": {
     "base_uri": "https://localhost:8080/"
    },
    "id": "jYPSqpJKlsQY",
    "outputId": "59a13cd9-829d-450c-ce97-90cd1ba0da21"
   },
   "outputs": [
    {
     "name": "stdout",
     "output_type": "stream",
     "text": [
      "82018\n",
      "(181211, 30)\n"
     ]
    }
   ],
   "source": [
    "seed = 160\n",
    "torch.manual_seed(seed)\n",
    "\n",
    "layer_sizes = [n, 128, 16, 2] # best setting for n = 24\n",
    "\n",
    "layer_sizes = [n, 256, 256, 32, 2] # best setting for n = 30\n",
    "\n",
    "net = NeuralNetwork(layer_sizes, dropout_rate=0.2).to(device)\n",
    "\n",
    "# Define the loss function and optimizer\n",
    "criterion = torch.nn.CrossEntropyLoss()\n",
    "optimizer = torch.optim.AdamW(net.parameters(), amsgrad=True, weight_decay=0.12)\n",
    "\n",
    "def count_parameters(model):\n",
    "    \"\"\"\n",
    "    Counts the total number of trainable parameters in a PyTorch model.\n",
    "    \"\"\"\n",
    "    return sum(p.numel() for p in model.parameters() if p.requires_grad)\n",
    "\n",
    "print(count_parameters(net))\n",
    "print(X_train.shape)"
   ]
  },
  {
   "cell_type": "code",
   "execution_count": 10,
   "metadata": {
    "id": "f6Ky5b_yl7fx"
   },
   "outputs": [],
   "source": [
    "# Convert input data to PyTorch tensors and move to GPU\n",
    "X_train_tensor = torch.from_numpy(X_train).float().to(device)\n",
    "y_train_tensor = torch.from_numpy(y_train).long().to(device)\n",
    "X_val_tensor = torch.from_numpy(X_val).float().to(device)\n",
    "y_val_tensor = torch.from_numpy(y_val).long().to(device)"
   ]
  },
  {
   "cell_type": "code",
   "execution_count": 11,
   "metadata": {
    "colab": {
     "base_uri": "https://localhost:8080/",
     "height": 1000
    },
    "id": "Zky6QbVKl7aN",
    "outputId": "9b8ebc7b-9293-45e8-98cf-cffd0aaab875"
   },
   "outputs": [
    {
     "name": "stdout",
     "output_type": "stream",
     "text": [
      "Epoch [100/5000]\n",
      "Train Loss: 0.6777, Train Accuracy: 57.28%\n",
      "Val Loss: 0.7011, Val Accuracy: 50.02%\n",
      "\n",
      "Epoch [200/5000]\n",
      "Train Loss: 0.6534, Train Accuracy: 61.68%\n",
      "Val Loss: 0.7154, Val Accuracy: 50.39%\n",
      "\n",
      "Epoch [300/5000]\n",
      "Train Loss: 0.6343, Train Accuracy: 64.34%\n",
      "Val Loss: 0.7264, Val Accuracy: 50.93%\n",
      "\n",
      "Epoch [400/5000]\n",
      "Train Loss: 0.6204, Train Accuracy: 65.70%\n",
      "Val Loss: 0.7378, Val Accuracy: 51.16%\n",
      "\n",
      "Epoch [500/5000]\n",
      "Train Loss: 0.6059, Train Accuracy: 67.16%\n",
      "Val Loss: 0.7470, Val Accuracy: 51.21%\n",
      "\n",
      "Epoch [600/5000]\n",
      "Train Loss: 0.5943, Train Accuracy: 68.24%\n",
      "Val Loss: 0.7523, Val Accuracy: 51.70%\n",
      "\n",
      "Epoch [700/5000]\n",
      "Train Loss: 0.5883, Train Accuracy: 68.60%\n",
      "Val Loss: 0.7621, Val Accuracy: 51.93%\n",
      "\n",
      "Epoch [800/5000]\n",
      "Train Loss: 0.5715, Train Accuracy: 70.47%\n",
      "Val Loss: 0.7566, Val Accuracy: 52.73%\n",
      "\n",
      "Epoch [900/5000]\n",
      "Train Loss: 0.5558, Train Accuracy: 71.66%\n",
      "Val Loss: 0.7524, Val Accuracy: 53.71%\n",
      "\n",
      "Epoch [1000/5000]\n",
      "Train Loss: 0.5405, Train Accuracy: 72.82%\n",
      "Val Loss: 0.7443, Val Accuracy: 54.89%\n",
      "\n",
      "Epoch [1100/5000]\n",
      "Train Loss: 0.5274, Train Accuracy: 73.58%\n",
      "Val Loss: 0.7370, Val Accuracy: 55.94%\n",
      "\n",
      "Epoch [1200/5000]\n",
      "Train Loss: 0.5119, Train Accuracy: 73.80%\n",
      "Val Loss: 0.7294, Val Accuracy: 57.73%\n",
      "\n",
      "Epoch [1300/5000]\n",
      "Train Loss: 0.4786, Train Accuracy: 77.15%\n",
      "Val Loss: 0.6862, Val Accuracy: 60.88%\n",
      "\n",
      "Epoch [1400/5000]\n",
      "Train Loss: 0.4631, Train Accuracy: 78.06%\n",
      "Val Loss: 0.6669, Val Accuracy: 63.04%\n",
      "\n",
      "Epoch [1500/5000]\n",
      "Train Loss: 0.4388, Train Accuracy: 79.97%\n",
      "Val Loss: 0.6377, Val Accuracy: 65.76%\n",
      "\n",
      "Epoch [1600/5000]\n",
      "Train Loss: 0.4341, Train Accuracy: 80.87%\n",
      "Val Loss: 0.6263, Val Accuracy: 67.09%\n",
      "\n",
      "Epoch [1700/5000]\n",
      "Train Loss: 0.4120, Train Accuracy: 81.34%\n",
      "Val Loss: 0.6179, Val Accuracy: 68.56%\n",
      "\n",
      "Epoch [1800/5000]\n",
      "Train Loss: 0.4006, Train Accuracy: 82.18%\n",
      "Val Loss: 0.6044, Val Accuracy: 69.81%\n",
      "\n",
      "Epoch [1900/5000]\n",
      "Train Loss: 0.3969, Train Accuracy: 81.67%\n",
      "Val Loss: 0.6083, Val Accuracy: 70.10%\n",
      "\n",
      "Epoch [2000/5000]\n",
      "Train Loss: 0.3773, Train Accuracy: 84.11%\n",
      "Val Loss: 0.5755, Val Accuracy: 72.06%\n",
      "\n",
      "Epoch [2100/5000]\n",
      "Train Loss: 0.3618, Train Accuracy: 84.70%\n",
      "Val Loss: 0.5702, Val Accuracy: 72.93%\n",
      "\n",
      "Epoch [2200/5000]\n",
      "Train Loss: 0.3620, Train Accuracy: 83.87%\n",
      "Val Loss: 0.5866, Val Accuracy: 72.61%\n",
      "\n",
      "Epoch [2300/5000]\n",
      "Train Loss: 0.3519, Train Accuracy: 85.26%\n",
      "Val Loss: 0.5629, Val Accuracy: 73.80%\n",
      "\n",
      "Epoch [2400/5000]\n",
      "Train Loss: 0.3351, Train Accuracy: 86.19%\n",
      "Val Loss: 0.5501, Val Accuracy: 74.97%\n",
      "\n",
      "Epoch [2500/5000]\n",
      "Train Loss: 0.3302, Train Accuracy: 86.28%\n",
      "Val Loss: 0.5527, Val Accuracy: 75.14%\n",
      "\n",
      "Epoch [2600/5000]\n",
      "Train Loss: 0.3300, Train Accuracy: 85.81%\n",
      "Val Loss: 0.5598, Val Accuracy: 74.93%\n",
      "\n",
      "Epoch [2700/5000]\n",
      "Train Loss: 0.3337, Train Accuracy: 85.75%\n",
      "Val Loss: 0.5671, Val Accuracy: 74.80%\n",
      "\n",
      "Epoch [2800/5000]\n",
      "Train Loss: 0.3150, Train Accuracy: 87.09%\n",
      "Val Loss: 0.5480, Val Accuracy: 75.63%\n",
      "\n",
      "Epoch [2900/5000]\n",
      "Train Loss: 0.3165, Train Accuracy: 86.22%\n",
      "Val Loss: 0.5630, Val Accuracy: 75.25%\n",
      "\n",
      "Epoch [3000/5000]\n",
      "Train Loss: 0.3104, Train Accuracy: 87.45%\n",
      "Val Loss: 0.5467, Val Accuracy: 75.95%\n",
      "\n",
      "Epoch [3100/5000]\n",
      "Train Loss: 0.3214, Train Accuracy: 87.11%\n",
      "Val Loss: 0.5609, Val Accuracy: 75.18%\n",
      "\n",
      "Epoch [3200/5000]\n",
      "Train Loss: 0.3252, Train Accuracy: 86.45%\n",
      "Val Loss: 0.5765, Val Accuracy: 74.60%\n",
      "\n",
      "Epoch [3300/5000]\n",
      "Train Loss: 0.2996, Train Accuracy: 87.92%\n",
      "Val Loss: 0.5518, Val Accuracy: 75.96%\n",
      "\n",
      "Epoch [3400/5000]\n",
      "Train Loss: 0.3379, Train Accuracy: 85.99%\n",
      "Val Loss: 0.5850, Val Accuracy: 74.86%\n",
      "\n",
      "Epoch [3500/5000]\n",
      "Train Loss: 0.2922, Train Accuracy: 88.14%\n",
      "Val Loss: 0.5514, Val Accuracy: 76.29%\n",
      "\n",
      "Epoch [3600/5000]\n",
      "Train Loss: 0.3064, Train Accuracy: 87.18%\n",
      "Val Loss: 0.5703, Val Accuracy: 75.68%\n",
      "\n",
      "Epoch [3700/5000]\n",
      "Train Loss: 0.3017, Train Accuracy: 87.36%\n",
      "Val Loss: 0.5702, Val Accuracy: 75.71%\n",
      "\n",
      "Epoch [3800/5000]\n",
      "Train Loss: 0.2983, Train Accuracy: 87.50%\n",
      "Val Loss: 0.5703, Val Accuracy: 75.77%\n",
      "\n",
      "Epoch [3900/5000]\n",
      "Train Loss: 0.2987, Train Accuracy: 87.49%\n",
      "Val Loss: 0.5736, Val Accuracy: 75.73%\n",
      "\n",
      "Epoch [4000/5000]\n",
      "Train Loss: 0.2931, Train Accuracy: 88.19%\n",
      "Val Loss: 0.5679, Val Accuracy: 75.86%\n",
      "\n",
      "Epoch [4100/5000]\n",
      "Train Loss: 0.2825, Train Accuracy: 89.09%\n",
      "Val Loss: 0.5476, Val Accuracy: 76.91%\n",
      "\n",
      "Epoch [4200/5000]\n",
      "Train Loss: 0.2909, Train Accuracy: 88.44%\n",
      "Val Loss: 0.5668, Val Accuracy: 76.01%\n",
      "\n",
      "Epoch [4300/5000]\n",
      "Train Loss: 0.2818, Train Accuracy: 88.58%\n",
      "Val Loss: 0.5657, Val Accuracy: 76.10%\n",
      "\n",
      "Epoch [4400/5000]\n",
      "Train Loss: 0.2697, Train Accuracy: 89.46%\n",
      "Val Loss: 0.5504, Val Accuracy: 77.00%\n",
      "\n",
      "Epoch [4500/5000]\n",
      "Train Loss: 0.2702, Train Accuracy: 89.44%\n",
      "Val Loss: 0.5500, Val Accuracy: 76.99%\n",
      "\n",
      "Epoch [4600/5000]\n",
      "Train Loss: 0.2762, Train Accuracy: 88.79%\n",
      "Val Loss: 0.5656, Val Accuracy: 76.40%\n",
      "\n",
      "Epoch [4700/5000]\n",
      "Train Loss: 0.2675, Train Accuracy: 89.57%\n",
      "Val Loss: 0.5556, Val Accuracy: 76.84%\n",
      "\n",
      "Epoch [4800/5000]\n",
      "Train Loss: 0.2750, Train Accuracy: 89.47%\n",
      "Val Loss: 0.5505, Val Accuracy: 77.07%\n",
      "\n",
      "Epoch [4900/5000]\n",
      "Train Loss: 0.2707, Train Accuracy: 89.68%\n",
      "Val Loss: 0.5539, Val Accuracy: 77.05%\n",
      "\n",
      "Epoch [5000/5000]\n",
      "Train Loss: 0.2637, Train Accuracy: 89.07%\n",
      "Val Loss: 0.5641, Val Accuracy: 76.57%\n",
      "\n",
      "Best val loss: 0.5467466711997986\n"
     ]
    },
    {
     "data": {
      "text/plain": [
       "<All keys matched successfully>"
      ]
     },
     "execution_count": 11,
     "metadata": {},
     "output_type": "execute_result"
    }
   ],
   "source": [
    "# Training parameters\n",
    "num_epochs = 5000\n",
    "print_interval = 100\n",
    "\n",
    "# Lists to store metrics for plotting\n",
    "train_losses = []\n",
    "train_accuracies = []\n",
    "val_losses = []\n",
    "val_accuracies = []\n",
    "\n",
    "best_val_loss = 1\n",
    "best_model_state = None\n",
    "\n",
    "for epoch in range(num_epochs):\n",
    "    # Training mode\n",
    "    net.train()\n",
    "\n",
    "    optimizer.zero_grad()\n",
    "\n",
    "    # Forward pass on training data\n",
    "    output_train = net(X_train_tensor)\n",
    "    train_loss = criterion(output_train, y_train_tensor)\n",
    "\n",
    "    # Backward pass and optimization\n",
    "    train_loss.backward()\n",
    "    optimizer.step()\n",
    "\n",
    "    if (epoch + 1) % print_interval == 0:\n",
    "        # Validation mode\n",
    "        net.eval()\n",
    "        with torch.no_grad():  # No gradient calculation during validation\n",
    "            output_train = net(X_train_tensor)\n",
    "            _, predicted_train = torch.max(output_train, 1)\n",
    "            train_accuracy = (predicted_train == y_train_tensor).float().mean().item()\n",
    "\n",
    "            output_val = net(X_val_tensor)\n",
    "            val_loss = criterion(output_val, y_val_tensor)\n",
    "\n",
    "            # Calculate validation accuracy\n",
    "            _, predicted_val = torch.max(output_val, 1)\n",
    "            val_accuracy = (predicted_val == y_val_tensor).float().mean().item()\n",
    "\n",
    "        print(f\"Epoch [{epoch + 1}/{num_epochs}]\")\n",
    "        print(f\"Train Loss: {train_loss.item():.4f}, Train Accuracy: {train_accuracy * 100:.2f}%\")\n",
    "        print(f\"Val Loss: {val_loss.item():.4f}, Val Accuracy: {val_accuracy * 100:.2f}%\\n\")\n",
    "\n",
    "        # store all values for plotting\n",
    "        train_losses.append(train_loss.item())\n",
    "        train_accuracies.append(train_accuracy)\n",
    "        val_losses.append(val_loss.item())\n",
    "        val_accuracies.append(val_accuracy)\n",
    "\n",
    "        if val_loss < best_val_loss:\n",
    "            best_val_loss = val_loss\n",
    "            best_model_state = net.state_dict()\n",
    "\n",
    "print(f\"Best val loss: {best_val_loss}\")            \n",
    "#  restore model with best val loss\n",
    "net.load_state_dict(best_model_state)"
   ]
  },
  {
   "cell_type": "code",
   "execution_count": 12,
   "metadata": {
    "colab": {
     "base_uri": "https://localhost:8080/",
     "height": 507
    },
    "id": "X3m-2NJ5DWtc",
    "outputId": "81e25414-1393-473d-a3cf-b82bc2c5bd52"
   },
   "outputs": [
    {
     "data": {
      "image/png": "[encoded data removed]",
      "text/plain": [
       "<Figure size 1200x500 with 2 Axes>"
      ]
     },
     "metadata": {},
     "output_type": "display_data"
    }
   ],
   "source": [
    "epochs = range(1, num_epochs + 1)\n",
    "plt.figure(figsize=(12, 5))\n",
    "\n",
    "# Plot Train and Validation Loss\n",
    "plt.subplot(1, 2, 1)\n",
    "plt.plot(epochs[print_interval - 1::print_interval][:len(train_losses)], train_losses, label=\"Train Loss\")\n",
    "plt.plot(epochs[print_interval - 1::print_interval][:len(val_losses)], val_losses, label=\"Validation Loss\")\n",
    "plt.xlabel(\"Epochs\")\n",
    "plt.ylabel(\"Loss\")\n",
    "plt.title(\"Train and Validation Loss\")\n",
    "plt.legend()\n",
    "\n",
    "# Plot Train and Validation Accuracy\n",
    "plt.subplot(1, 2, 2)\n",
    "plt.plot(epochs[print_interval - 1::print_interval][:len(train_accuracies)], train_accuracies, label=\"Train Accuracy\")\n",
    "plt.plot(epochs[print_interval - 1::print_interval][:len(val_accuracies)], val_accuracies, label=\"Validation Accuracy\")\n",
    "plt.xlabel(\"Epochs\")\n",
    "plt.ylabel(\"Accuracy\")\n",
    "plt.title(\"Train and Validation Accuracy\")\n",
    "plt.legend()\n",
    "\n",
    "plt.tight_layout()\n",
    "plt.show()"
   ]
  },
  {
   "cell_type": "code",
   "execution_count": 13,
   "metadata": {
    "colab": {
     "base_uri": "https://localhost:8080/"
    },
    "id": "ItzXBotxpptM",
    "outputId": "8d63efbb-321b-4783-b6c2-d43e918a3259"
   },
   "outputs": [
    {
     "name": "stdout",
     "output_type": "stream",
     "text": [
      "Test Accuracy: 76.46%\n",
      "\n"
     ]
    }
   ],
   "source": [
    "# check test accuracy\n",
    "X_test_tensor = torch.from_numpy(X_test).float().to(device)\n",
    "y_test_tensor = torch.from_numpy(y_test).long().to(device)\n",
    "\n",
    "net.eval()\n",
    "with torch.no_grad():  # No gradient calculation during validation\n",
    "    output_test = net(X_test_tensor)\n",
    "    _, predicted_test = torch.max(output_test, 1)\n",
    "    test_accuracy = (predicted_test == y_test_tensor).float().mean().item()\n",
    "    print(f\"Test Accuracy: {test_accuracy * 100:.2f}%\\n\")"
   ]
  }
 ],
 "metadata": {
  "accelerator": "GPU",
  "colab": {
   "gpuType": "T4",
   "provenance": []
  },
  "kernelspec": {
   "display_name": "venv",
   "language": "python",
   "name": "python3"
  },
  "language_info": {
   "codemirror_mode": {
    "name": "ipython",
    "version": 3
   },
   "file_extension": ".py",
   "mimetype": "text/x-python",
   "name": "python",
   "nbconvert_exporter": "python",
   "pygments_lexer": "ipython3",
   "version": "3.11.9"
  }
 },
 "nbformat": 4,
 "nbformat_minor": 0
}
