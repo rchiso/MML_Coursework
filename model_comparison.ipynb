{
 "cells": [
  {
   "cell_type": "code",
   "execution_count": 1,
   "metadata": {},
   "outputs": [],
   "source": [
    "import csv\n",
    "import numpy as np\n",
    "import matplotlib.pyplot as plt\n",
    "\n",
    "from pathlib import Path\n",
    "from collections import defaultdict"
   ]
  },
  {
   "cell_type": "code",
   "execution_count": 2,
   "metadata": {},
   "outputs": [],
   "source": [
    "mlp_results_dir = Path('Results/MLPTrainingAndTesting')\n",
    "mlp_csv_file = \"mlp_training_results.csv\"\n",
    "\n",
    "svm_results_dir = Path('Results/SVMTrainingAndTesting')\n",
    "svm_csv_file = \"svm_training_result.csv\"\n",
    "\n",
    "plots_dir = Path('Plots/ModelComparison')\n",
    "plots_dir.mkdir(exist_ok=True)"
   ]
  },
  {
   "cell_type": "code",
   "execution_count": 3,
   "metadata": {},
   "outputs": [],
   "source": [
    "def get_mean_test_accuracies(csv_file):\n",
    "    # Initialize a dictionary to store test accuracies for each n\n",
    "    test_accuracies = defaultdict(list)\n",
    "    with open(csv_file, mode=\"r\") as file:\n",
    "        reader = csv.DictReader(file)\n",
    "        for row in reader:\n",
    "            # Extract n and test_acc, and append the test_acc to the respective list\n",
    "            n = int(row[\"n\"])\n",
    "            test_acc = float(row[\"test_acc\"])\n",
    "            test_accuracies[n].append(test_acc)\n",
    "\n",
    "    # Calculate mean test accuracy for each n\n",
    "    mean_test_accuracies = {n: sum(acc_list) / len(acc_list) for n, acc_list in test_accuracies.items()}\n",
    "    return mean_test_accuracies"
   ]
  },
  {
   "cell_type": "code",
   "execution_count": 4,
   "metadata": {},
   "outputs": [],
   "source": [
    "mlp_test_accuracies = get_mean_test_accuracies(mlp_results_dir / mlp_csv_file)\n",
    "svm_test_accuracies = get_mean_test_accuracies(svm_results_dir / svm_csv_file)"
   ]
  },
  {
   "cell_type": "code",
   "execution_count": 5,
   "metadata": {},
   "outputs": [
    {
     "data": {
      "image/png": "[encoded data removed]",
      "text/plain": [
       "<Figure size 500x500 with 1 Axes>"
      ]
     },
     "metadata": {},
     "output_type": "display_data"
    }
   ],
   "source": [
    "n_values = [9, 12, 15]\n",
    "accuracy_thresholds = [0.95, 0.925, 0.9]\n",
    "\n",
    "mlp_accuracies = [mlp_test_accuracies[n] / 100 for n in n_values] # mlp accuracies are stored as percentage\n",
    "svm_accuracies = [svm_test_accuracies[n] for n in n_values]\n",
    "\n",
    "# Create the bar chart\n",
    "plt.figure(figsize=(5, 5))\n",
    "bar_width = 0.35  # Width of each bar\n",
    "x = np.arange(len(n_values))  # Positions for bars\n",
    "plt.bar(x - bar_width / 2, mlp_accuracies, width=bar_width, label=\"MLP\", color=\"blue\")\n",
    "plt.bar(x + bar_width / 2, svm_accuracies, width=bar_width, label=\"SVM\", color=\"orange\")\n",
    "\n",
    "# Add red dashed lines for accuracy thresholds only on bars for each n\n",
    "for i, threshold in enumerate(accuracy_thresholds):\n",
    "    # Draw a red dashed line centered on each MLP and SVM bar for the given n\n",
    "    plt.plot(\n",
    "        [x[i] - bar_width, x[i] + bar_width],  # Horizontal range for the line\n",
    "        [threshold, threshold],  # Fixed height (threshold)\n",
    "        color=\"red\",\n",
    "        linestyle=\"--\",\n",
    "        linewidth=2,\n",
    "        label=\"Threshold\" if i == 0 else None\n",
    "    )\n",
    "\n",
    "# Add x labels, y labels, title, and legend\n",
    "#plt.xlabel(\"Dataset Size (n)\", fontsize=12)\n",
    "plt.ylabel(\"Test Accuracy\", fontsize=12)\n",
    "# plt.title(\"Comparison of MLP and SVM Test Accuracies\", fontsize=14)\n",
    "plt.xticks(x, [f\"Kryptonite-{n}\" for n in n_values])  # Add custom labels for the x-axis\n",
    "plt.legend(fontsize=12)\n",
    "\n",
    "# Show the plot\n",
    "plt.tight_layout()\n",
    "plt.savefig(plots_dir / \"mlp_vs_svm.svg\", format=\"svg\")\n",
    "plt.show()"
   ]
  }
 ],
 "metadata": {
  "kernelspec": {
   "display_name": "venv",
   "language": "python",
   "name": "python3"
  },
  "language_info": {
   "codemirror_mode": {
    "name": "ipython",
    "version": 3
   },
   "file_extension": ".py",
   "mimetype": "text/x-python",
   "name": "python",
   "nbconvert_exporter": "python",
   "pygments_lexer": "ipython3",
   "version": "3.11.9"
  }
 },
 "nbformat": 4,
 "nbformat_minor": 2
}
