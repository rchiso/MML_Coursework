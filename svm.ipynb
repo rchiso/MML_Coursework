{
 "cells": [
  {
   "cell_type": "code",
   "execution_count": null,
   "metadata": {},
   "outputs": [],
   "source": [
    "import os\n",
    "import csv\n",
    "\n",
    "import numpy as np\n",
    "import pandas as pd\n",
    "import seaborn as sns\n",
    "import matplotlib.pyplot as plt\n",
    "from sklearn.model_selection import KFold\n",
    "from sklearn.model_selection import train_test_split\n",
    "from sklearn.metrics import accuracy_score\n",
    "from sklearn import svm\n",
    "\n",
    "from pathlib import Path\n",
    "\n",
    "plt.rcParams.update({\n",
    "    #\"text.usetex\": True,\n",
    "    \"font.size\": 14,      \n",
    "    \"axes.titlesize\": 14,  \n",
    "    \"axes.labelsize\": 14, \n",
    "    \"xtick.labelsize\": 14,\n",
    "    \"ytick.labelsize\": 14,\n",
    "    \"legend.fontsize\": 14 \n",
    "})"
   ]
  },
  {
   "cell_type": "code",
   "execution_count": null,
   "metadata": {},
   "outputs": [],
   "source": [
    "results_dir = Path('Results/SVMTrainingAndTesting')\n",
    "results_dir.mkdir(exist_ok=True)\n",
    "\n",
    "plots_dir = Path('Plots/SVMTrainingAndTesting')\n",
    "plots_dir.mkdir(exist_ok=True)"
   ]
  },
  {
   "cell_type": "markdown",
   "metadata": {},
   "source": [
    "### Check previous training results"
   ]
  },
  {
   "cell_type": "code",
   "execution_count": null,
   "metadata": {},
   "outputs": [],
   "source": [
    "# Function to check if the hyperparameter combination already exists in CSV\n",
    "def is_hyperparameter_row_present(hyperparameters, existing_rows):\n",
    "    hyperparameter_tuple = tuple(sorted({\n",
    "        key: str(val) for key, val in  hyperparameters.items()\n",
    "    }.items()))\n",
    "    return hyperparameter_tuple in existing_rows"
   ]
  },
  {
   "cell_type": "code",
   "execution_count": null,
   "metadata": {},
   "outputs": [],
   "source": [
    "csv_file_path = results_dir / f\"svm_training_result.csv\"\n",
    "\n",
    "# Initialize an empty set to store processed hyperparameter combinations\n",
    "existing_rows = set()\n",
    "\n",
    "# Check if the CSV file already exists and load existing rows\n",
    "if os.path.exists(csv_file_path):\n",
    "    with open(csv_file_path, mode='r', newline='') as f:\n",
    "        reader = csv.reader(f)\n",
    "        # Read the headers and rows from the existing file\n",
    "        headers = next(reader)\n",
    "        for row in reader:\n",
    "            # Convert each row back into a dictionary of hyperparameters\n",
    "            row_dict = dict(zip(headers, row))\n",
    "            row_dict.pop(\"test_acc\")\n",
    "            row_dict.pop(\"train_acc\")\n",
    "            # Create a hashable tuple for checking if the row already exists\n",
    "            existing_rows.add(tuple(sorted(row_dict.items())))\n"
   ]
  },
  {
   "cell_type": "markdown",
   "metadata": {},
   "source": [
    "### Training"
   ]
  },
  {
   "cell_type": "code",
   "execution_count": null,
   "metadata": {},
   "outputs": [],
   "source": [
    "binary = True\n",
    "N_tries = 10\n",
    "dimensions = [9, 12, 15, 18]#, 24, 30, 45]\n",
    "\n",
    "#dimension = 9\n",
    "for dimension in dimensions:\n",
    "    X = np.load(f\"Datasets/kryptonite-{dimension}-X.npy\")\n",
    "    y = np.load(f\"Datasets/kryptonite-{dimension}-y.npy\")\n",
    "\n",
    "    if binary:\n",
    "        X = np.where(X>0.5, 1, 0)\n",
    "\n",
    "    for i_run in range(N_tries):        \n",
    "        params = {\n",
    "            \"n\": dimension,\n",
    "            \"run\": i_run,\n",
    "        }\n",
    "        \n",
    "        # Check if this combination has already been processed\n",
    "        if is_hyperparameter_row_present(params, existing_rows):\n",
    "            print(f\"Skipping already processed combination: {params}\")\n",
    "            continue  # Skip to the next combination\n",
    "        print(f\"Dim {dimension:02} Run {i_run:02}\")\n",
    "        X_train, X_test, y_train, y_test = train_test_split(X, y, test_size=0.2) #, random_state=42)  # 20% test\n",
    "\n",
    "        model = svm.SVC(gamma=2, C=1)\n",
    "        model.fit(X_train, y_train)\n",
    "\n",
    "        y_train_pred = model.predict(X_train)\n",
    "        train_accuracy = accuracy_score(y_train, y_train_pred)\n",
    "        #print(f\"Run{i:02} Train accuracy: {100*train_accuracy:.03f}%\")\n",
    "\n",
    "        y_test_pred = model.predict(X_test)\n",
    "        test_accuracy = accuracy_score(y_test, y_test_pred)\n",
    "        #print(f\"Run{i:02} Test accuracy: {100*test_accuracy:.03f}%\")\n",
    "        \n",
    "        # Prepare the result row\n",
    "        result_row = {\"n\": dimension, \"run\": i_run, \"test_acc\": test_accuracy, \"train_acc\": train_accuracy}\n",
    "\n",
    "        # Append the result to the CSV file\n",
    "        with open(csv_file_path, mode='a', newline='') as f:\n",
    "            writer = csv.DictWriter(f, fieldnames=result_row.keys())\n",
    "            \n",
    "            # Write header only if the file is empty (first write)\n",
    "            if f.tell() == 0:\n",
    "                writer.writeheader()\n",
    "            \n",
    "            writer.writerow(result_row)"
   ]
  },
  {
   "cell_type": "markdown",
   "metadata": {},
   "source": [
    "### Plot results"
   ]
  },
  {
   "cell_type": "markdown",
   "metadata": {},
   "source": [
    "#### Line plot"
   ]
  },
  {
   "cell_type": "code",
   "execution_count": null,
   "metadata": {},
   "outputs": [],
   "source": [
    "data = pd.read_csv(csv_file_path)\n",
    "\n",
    "# Group by n and calculate mean and std for test_acc and train_acc\n",
    "stats = data.groupby('n').agg(\n",
    "    test_mean=('test_acc', 'mean'),\n",
    "    test_std=('test_acc', 'std'),\n",
    "    train_mean=('train_acc', 'mean'),\n",
    "    train_std=('train_acc', 'std')\n",
    ").reset_index()\n",
    "\n",
    "n_values = stats['n'].values[:-1]\n",
    "test_mean = stats['test_mean'].values[:-1]\n",
    "test_std = stats['test_std'].values[:-1]\n",
    "train_mean = stats['train_mean'].values[:-1]\n",
    "train_std = stats['train_std'].values[:-1]\n",
    "\n",
    "# Create the plot\n",
    "plt.figure(figsize=(6, 3.5))\n",
    "\n",
    "# Plot the train accuracy mean and standard deviation\n",
    "plt.plot(n_values, train_mean, label='Train Accuracy', color='orange', marker='o', linestyle='-')\n",
    "plt.fill_between(n_values, train_mean - train_std, train_mean + train_std, color='orange', alpha=0.2)\n",
    "\n",
    "# Annotate train mean values\n",
    "for x, y in zip(n_values, train_mean):\n",
    "    plt.text(x, y + 0.06, f\"{y:.2f}\", color='orange', fontsize=14, ha='center')\n",
    "    \n",
    "# Plot the test accuracy mean and standard deviation\n",
    "plt.plot(n_values, test_mean, label='Test Accuracy', color='blue', marker='o', linestyle='-')\n",
    "plt.fill_between(n_values, test_mean - test_std, test_mean + test_std, color='blue', alpha=0.2)\n",
    "\n",
    "# Annotate test mean values\n",
    "for x, y in zip(n_values, test_mean):\n",
    "    plt.text(x, y - 0.1, f\"{y:.2f}\", color='blue', fontsize=14, ha='center')\n",
    "    \n",
    "plt.title('SVM training result', fontsize=15)\n",
    "plt.xlabel('Dataset Dimension', fontsize=15)\n",
    "plt.ylabel('Accuracy', fontsize=15)\n",
    "plt.legend(fontsize=14, loc='lower left')#, bbox_to_anchor=(0.995, 0.87))\n",
    "plt.grid( linestyle='--', alpha=0.7)\n",
    "plt.xticks(fontsize=15)\n",
    "plt.yticks(fontsize=15)\n",
    "plt.ylim(0, 1.13)\n",
    "plt.tight_layout()\n",
    "\n",
    "save_filename = plots_dir / \"svm_training_result.pdf\"\n",
    "plt.savefig(save_filename, bbox_inches='tight', format=\"pdf\")\n",
    "plt.show()\n"
   ]
  },
  {
   "cell_type": "markdown",
   "metadata": {},
   "source": [
    "#### Box plot"
   ]
  },
  {
   "cell_type": "code",
   "execution_count": null,
   "metadata": {},
   "outputs": [],
   "source": [
    "# Melt the data to long format for easier plotting\n",
    "data_melted = data.melt(id_vars=['n', 'run'], value_vars=['test_acc', 'train_acc'], \n",
    "                        var_name='Metric', value_name='Accuracy')\n",
    "\n",
    "# Create the box plot\n",
    "plt.figure(figsize=(8, 4))\n",
    "sns.boxplot(x='n', y='Accuracy', hue='Metric', data=data_melted, showmeans=True)\n",
    "\n",
    "plt.title('Box Plot of Test and Train Accuracy by dimension')\n",
    "plt.xlabel('Dimension')\n",
    "plt.ylabel('Accuracy')\n",
    "plt.legend(title='Metric', loc='upper right', bbox_to_anchor=(0.975, 0.95))\n",
    "plt.grid(axis='y', linestyle='--', alpha=0.7)\n",
    "\n",
    "plt.tight_layout()\n",
    "plt.show()\n"
   ]
  }
 ],
 "metadata": {
  "kernelspec": {
   "display_name": "Python 3",
   "language": "python",
   "name": "python3"
  },
  "language_info": {
   "codemirror_mode": {
    "name": "ipython",
    "version": 3
   },
   "file_extension": ".py",
   "mimetype": "text/x-python",
   "name": "python",
   "nbconvert_exporter": "python",
   "pygments_lexer": "ipython3",
   "version": "3.10.12"
  }
 },
 "nbformat": 4,
 "nbformat_minor": 2
}
